{
  "nbformat": 4,
  "nbformat_minor": 0,
  "metadata": {
    "colab": {
      "name": "Метод бисекции.ipynb",
      "provenance": [],
      "collapsed_sections": [],
      "include_colab_link": true
    },
    "kernelspec": {
      "name": "python3",
      "display_name": "Python 3"
    },
    "language_info": {
      "name": "python"
    }
  },
  "cells": [
    {
      "cell_type": "markdown",
      "metadata": {
        "id": "view-in-github",
        "colab_type": "text"
      },
      "source": [
        "<a href=\"https://colab.research.google.com/github/Steiner-bot/Work/blob/main/%D0%9C%D0%B5%D1%82%D0%BE%D0%B4_%D0%B1%D0%B8%D1%81%D0%B5%D0%BA%D1%86%D0%B8%D0%B8.ipynb\" target=\"_parent\"><img src=\"https://colab.research.google.com/assets/colab-badge.svg\" alt=\"Open In Colab\"/></a>"
      ]
    },
    {
      "cell_type": "code",
      "metadata": {
        "id": "VFWk_J0tX517"
      },
      "source": [
        "import numpy as np\n",
        "import matplotlib.pyplot as plt\n",
        "from IPython.display import display, Markdown"
      ],
      "execution_count": null,
      "outputs": []
    },
    {
      "cell_type": "code",
      "metadata": {
        "id": "9_xP5OwEaIj6"
      },
      "source": [
        "def bisection(f, x_min, x_max, eps=1e-5):\n",
        "  \"\"\"\n",
        "  Функция для метода бисекций. \n",
        "\n",
        "  f: функция f(x)\n",
        "  x_min: левая граница отрезка\n",
        "  x_max: правая граница отрезка\n",
        "  eps: требуемая погрешность\n",
        "\n",
        "  returns: левая граница получившегося отрезка, правая граница получившегося отрезка,\n",
        "  количество итераций\n",
        "  \"\"\"\n",
        "\n",
        "  iters = 0\n",
        "  while np.abs(x_max - x_min) > eps:\n",
        "    center = (x_max + x_min) / 2\n",
        "\n",
        "    if f(x_min) * f(center) < 0:\n",
        "      x_max = center\n",
        "    else:\n",
        "      x_min = center\n",
        "    \n",
        "    iters += 1\n",
        "\n",
        "  return x_min, x_max, iters"
      ],
      "execution_count": null,
      "outputs": []
    },
    {
      "cell_type": "code",
      "metadata": {
        "id": "Eq3JA12Rb5Fq"
      },
      "source": [
        "def simple_iters(f, f_der, x_min, x_max, eps=1e-5):\n",
        "  \"\"\"\n",
        "  Функция для метода простой итерации\n",
        "  \n",
        "  f: функция f(x)\n",
        "  f_der: производная функции f(x)\n",
        "  x_min: левая граница отрезка\n",
        "  x_max: правая граница отрезка\n",
        "  eps: требуемая погрешность\n",
        "\n",
        "  returns: результат f(x*), количество итераций\n",
        "  \"\"\"\n",
        "\n",
        "  x_ = np.linspace(x_min, x_max, 100)\n",
        "  \n",
        "  # Считаем максимум и минимум производной f(x) на данном отрезке\n",
        "  f_der_max = np.max(f_der(x_))\n",
        "  f_der_min = np.min(f_der(x_))\n",
        "\n",
        "  # Определяем релаксационный параметр\n",
        "  tau = -2 / (f_der_min + f_der_max)\n",
        "\n",
        "  # Определяем функцию g(x) и её производную для метода простой итерации\n",
        "  g = lambda x: x + tau * f(x)\n",
        "  g_der = lambda x: 1 + tau * f_der(x)\n",
        "\n",
        "  print(f'tau = {tau}')\n",
        "\n",
        "  # Считаем максимум модуля g'(x), чтобы проверить условие сходимости\n",
        "  q = np.max(np.abs(g_der(x_)))\n",
        "\n",
        "  # Если q >= 1, то метод на данном отрезке расходится и мы выбрасываем ошибку\n",
        "  if q >= 1:\n",
        "    display(Markdown(rf\"\"\"Метод расходится на данном отрезке, так как $$\\max \\mid g'(x) \\mid = {q} >= 1$$\"\"\"))\n",
        "    raise Exception\n",
        "\n",
        "  iters = 0\n",
        "\n",
        "  # Для удобства, чтобы прошла первая итерация цикла назначаем x_0 в центре отрезка\n",
        "  # а x_1 на конце отрезка\n",
        "  x_old, x_new = (x_min + x_max) / 2, x_max\n",
        "\n",
        "  while np.abs(x_old - x_new) > eps * (1 - q)/ q:\n",
        "    x_new, x_old = g(x_old), x_new\n",
        "    iters += 1\n",
        "\n",
        "  return x_new, iters"
      ],
      "execution_count": null,
      "outputs": []
    },
    {
      "cell_type": "code",
      "metadata": {
        "colab": {
          "base_uri": "https://localhost:8080/",
          "height": 282
        },
        "id": "8cM0PmpGX9vk",
        "outputId": "0889057f-d6ec-4b6a-8c1a-8c042fb9f8fa"
      },
      "source": [
        "# Определяем функцию и её производную\n",
        "f = lambda x: x ** 2 + 4 * np.sin(x) - 1\n",
        "f_der = lambda x: 2 * x + 4 * np.cos(x)\n",
        "\n",
        "# Берем n точек в промежутке от -10 до 10\n",
        "a, b, n = -10, 10, 100\n",
        "x = np.linspace(a, b, 100)\n",
        "\n",
        "# Строим график\n",
        "fig, ax = plt.subplots()\n",
        "\n",
        "ax.axhline(y=0, color='black', linewidth=1)\n",
        "ax.axvline(x=0, color='black', linewidth=1)\n",
        "\n",
        "ax.plot(x, f(x))"
      ],
      "execution_count": null,
      "outputs": [
        {
          "output_type": "execute_result",
          "data": {
            "text/plain": [
              "[<matplotlib.lines.Line2D at 0x7fbc68cef7d0>]"
            ]
          },
          "metadata": {
            "tags": []
          },
          "execution_count": 14
        },
        {
          "output_type": "display_data",
          "data": {
            "image/png": "[encoded data removed]",
            "text/plain": [
              "<Figure size 432x288 with 1 Axes>"
            ]
          },
          "metadata": {
            "tags": [],
            "needs_background": "light"
          }
        }
      ]
    },
    {
      "cell_type": "code",
      "metadata": {
        "id": "VdPxHVRJYkb8"
      },
      "source": [
        "# Определяем отрезки, на которых находятся корни\n",
        "a1, b1 = -3, -1.5\n",
        "a2, b2 = -0.2, 1\n",
        "x1 = np.linspace(a1, b1)\n",
        "x2 = np.linspace(a2, b2)"
      ],
      "execution_count": null,
      "outputs": []
    },
    {
      "cell_type": "code",
      "metadata": {
        "colab": {
          "base_uri": "https://localhost:8080/",
          "height": 282
        },
        "id": "yK5JomjLZt_Z",
        "outputId": "be3f1987-2130-4af7-cc99-8706da3615cb"
      },
      "source": [
        "# Строим график функции на первом отрезке\n",
        "fig, ax = plt.subplots()\n",
        "ax.axhline(y=0, color='black', linewidth=1)\n",
        "ax.plot(x1, f(x1))"
      ],
      "execution_count": null,
      "outputs": [
        {
          "output_type": "execute_result",
          "data": {
            "text/plain": [
              "[<matplotlib.lines.Line2D at 0x7fbc60027a50>]"
            ]
          },
          "metadata": {
            "tags": []
          },
          "execution_count": 16
        },
        {
          "output_type": "display_data",
          "data": {
            "image/png": "[encoded data removed]",
            "text/plain": [
              "<Figure size 432x288 with 1 Axes>"
            ]
          },
          "metadata": {
            "tags": [],
            "needs_background": "light"
          }
        }
      ]
    },
    {
      "cell_type": "code",
      "metadata": {
        "colab": {
          "base_uri": "https://localhost:8080/",
          "height": 282
        },
        "id": "M5BrJ-x7Zu8L",
        "outputId": "1715c693-a4fa-41b6-81a8-f82f8fe48a69"
      },
      "source": [
        "# Строим график функции на втором отрезке\n",
        "fig, ax = plt.subplots()\n",
        "ax.axhline(y=0, color='black', linewidth=1)\n",
        "ax.plot(x2, f(x2))"
      ],
      "execution_count": null,
      "outputs": [
        {
          "output_type": "execute_result",
          "data": {
            "text/plain": [
              "[<matplotlib.lines.Line2D at 0x7fbc5ffa12d0>]"
            ]
          },
          "metadata": {
            "tags": []
          },
          "execution_count": 17
        },
        {
          "output_type": "display_data",
          "data": {
            "image/png": "[encoded data removed]",
            "text/plain": [
              "<Figure size 432x288 with 1 Axes>"
            ]
          },
          "metadata": {
            "tags": [],
            "needs_background": "light"
          }
        }
      ]
    },
    {
      "cell_type": "code",
      "metadata": {
        "colab": {
          "base_uri": "https://localhost:8080/",
          "height": 194
        },
        "id": "b2d0LwRMeWjE",
        "outputId": "a78edf36-801e-49c3-a1be-fbabeb94caaf"
      },
      "source": [
        "# Находим первый корень методом бисекций и методом простой итерации\n",
        "x_min_1, x_max_1, iters_bis_1 = bisection(f, a1, b1, 1e-5)\n",
        "res_sim_1, iters_sim_1 = simple_iters(f, f_der, a1, b1, 1e-5)\n",
        "res_bis_1 = (x_min_1 + x_max_1) / 2\n",
        "\n",
        "display(Markdown(rf\"\"\" <b>Метод бисекций</b> <p>\n",
        "Полученный результат методом бисекций за {iters_bis_1} итераций: $x = {res_bis_1:.6f}$<p>\n",
        "В результате получем $\\mid f(x) \\mid = {np.abs(f(res_bis_1)):.6f}$ <p>\n",
        "<b> Метод простой итерации </b> <p>\n",
        "Полученные результат методом простой итерации за {iters_sim_1} итераций: $x = {res_sim_1:.6f}$ <p>\n",
        "В результате получаем $\\mid f(x) \\mid = {np.abs(f(res_sim_1)):.6f}$\"\"\"))"
      ],
      "execution_count": null,
      "outputs": [
        {
          "output_type": "stream",
          "text": [
            "tau = 0.15776576939050627\n"
          ],
          "name": "stdout"
        },
        {
          "output_type": "display_data",
          "data": {
            "text/markdown": " <b>Метод бисекций</b> <p>\nПолученный результат методом бисекций за 18 итераций: $x = -2.106866$<p>\nВ результате получем $\\mid f(x) \\mid = 0.000007$ <p>\n<b> Метод простой итерации </b> <p>\nПолученные результат методом простой итерации за 8 итераций: $x = -2.106863$ <p>\nВ результате получаем $\\mid f(x) \\mid = 0.000025$",
            "text/plain": [
              "<IPython.core.display.Markdown object>"
            ]
          },
          "metadata": {
            "tags": []
          }
        }
      ]
    },
    {
      "cell_type": "code",
      "metadata": {
        "colab": {
          "base_uri": "https://localhost:8080/",
          "height": 194
        },
        "id": "zrQOcfOneY1E",
        "outputId": "338cd9ce-2ee2-4e5b-f56c-177369d59c96"
      },
      "source": [
        "# Находим второй корень методом бисекций и методом простой итерации\n",
        "x_min_2, x_max_2, iters_bis_2 = bisection(f, a2, b2, 1e-5)\n",
        "res_sim_2, iters_sim_2 = simple_iters(f, f_der, a2, b2, 1e-5)\n",
        "res_bis_2 = (x_min_2 + x_max_2) / 2\n",
        "\n",
        "display(Markdown(rf\"\"\" <b>Метод бисекций</b> <p>\n",
        "Полученный результат методом бисекций за {iters_bis_2} итераций: $x = {res_bis_2:.6f}$ <p>\n",
        "В результате получем $\\mid f(x) \\mid = {np.abs(f(res_bis_2)):.6f}$ <p>\n",
        "<b> Метод простой итерации </b> <p>\n",
        "Полученные результат методом простой итерации за {iters_sim_2} итераций: $x = {res_sim_2:.6f}$<p>\n",
        "В результате получаем $\\mid f(x) \\mid = {np.abs(f(res_sim_2)):.6f}$\"\"\"))"
      ],
      "execution_count": null,
      "outputs": [
        {
          "output_type": "stream",
          "text": [
            "tau = -0.2490181799859004\n"
          ],
          "name": "stdout"
        },
        {
          "output_type": "display_data",
          "data": {
            "text/markdown": " <b>Метод бисекций</b> <p>\nПолученный результат методом бисекций за 17 итераций: $x = 0.238075$ <p>\nВ результате получем $\\mid f(x) \\mid = 0.000010$ <p>\n<b> Метод простой итерации </b> <p>\nПолученные результат методом простой итерации за 8 итераций: $x = 0.238116$<p>\nВ результате получаем $\\mid f(x) \\mid = 0.000190$",
            "text/plain": [
              "<IPython.core.display.Markdown object>"
            ]
          },
          "metadata": {
            "tags": []
          }
        }
      ]
    }
  ]
}